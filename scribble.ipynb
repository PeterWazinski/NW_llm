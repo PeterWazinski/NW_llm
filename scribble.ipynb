{
 "cells": [
  {
   "cell_type": "code",
   "execution_count": 1,
   "id": "610b3110",
   "metadata": {},
   "outputs": [
    {
     "name": "stdout",
     "output_type": "stream",
     "text": [
      "=== NW Hierarchy Pretty Print ===\n",
      "📍 NW_root (ID: -1, Type: NW_root)\n",
      "     🏢 Nijeshwari PWSS (ID: 97, Type: location)\n",
      "          💧 Abstraction (ID: 99, Type: water_abstraction)\n",
      "               🏔️ Source (ID: 100, Type: source_module)\n",
      "                    🔧 Borewell level (ID: 69, Type: level, Primary: groundwater_level)\n",
      "                         📦 D1004901122 (ID: 79, Product: FMX21)\n",
      "                    🔧 Power Mains (ID: 70, Type: power, Primary: total_kwh)\n",
      "                         📦 2407811548 (ID: 87, Product: Energy meter)\n",
      "                    🔧 ABS-Pump (ID: 71, Type: pump, Primary: abs_pump_on)\n",
      "                         📦 Guwahati_ABS-Pump01 (ID: 88, Product: Pump)\n",
      "          🚰 Distribution (ID: 101, Type: water_distribution)\n",
      "               🧽 Treated water (ID: 102, Type: disinfection_module)\n",
      "                    🔧 Disinfect Transmitter (ID: 73, Type: undefined, Primary: None)\n",
      "                         📦 L70E7D05G00 (ID: 80, Product: CM442)\n",
      "                    🔧 Chlorine (ID: 75, Type: analysis, Primary: None)\n",
      "                         📦 X3048005C00 (ID: 82, Product: CCS51E)\n",
      "                    🔧 Chlorine Pump (ID: 76, Type: pump, Primary: chlorine_tank_lsh)\n",
      "                         📦 Guwahati_ChlorinePump01 (ID: 90, Product: Pump)\n",
      "                    🔧 Chlorine Level Switch (ID: 77, Type: level, Primary: chlorine_tank_lsl)\n",
      "                         📦 Chlorine-level-sw01 (ID: 96, Product: ChlorineLvl)\n",
      "                    🔧 Treatment Plant Level (ID: 78, Type: level, Primary: tp_level)\n",
      "                         📦 X3007D01228 (ID: 83, Product: FMR20B)\n",
      "               🏪 Storage (ID: 103, Type: storage_module)\n",
      "                    🔧 UGR Storage Level (ID: 79, Type: level, Primary: ugr_level)\n",
      "                         📦 X3007C01228 (ID: 84, Product: FMR20B)\n",
      "               🚪 Outlet (ID: 104, Type: outlet_module)\n",
      "                    🔧 Main Controller (ID: 85, Type: controller, Primary: backwash_indication)\n",
      "                         📦 A8741D1DEA0A (ID: 94, Product: 2404267)\n",
      "                    🔧 Valve Outlet (ID: 83, Type: control_valve, Primary: valveopen)\n",
      "                         📦 523970220 (ID: 93, Product: MOV)\n",
      "                    🔧 Outlet Flowmeter (ID: 82, Type: flow, Primary: volumeflow)\n",
      "                         📦 VB007B20000 (ID: 85, Product: 5WBB1H)\n",
      "                    🔧 Treated Water Pump (ID: 80, Type: pump, Primary: individual_pump_on)\n",
      "                         📦 Guwahati_CEN-Pump02 (ID: 91, Product: Pump)\n",
      "                    🔧 Elevated storage level (ID: 84, Type: level, Primary: esr_level)\n",
      "                         📦 V6024221179 (ID: 86, Product: FMR10)\n",
      "\n",
      "==================================================\n",
      "📊 NW HIERARCHY SUMMARY\n",
      "==================================================\n",
      "🏢 Locations:          1\n",
      "💧 Applications:       2\n",
      "📦 Modules:            4\n",
      "🔧 Instrumentations:  14\n",
      "📦 Assets:            14\n",
      "--------------------------------------------------\n",
      "📋 Total Nodes:       35\n",
      "==================================================\n"
     ]
    }
   ],
   "source": [
    "\n",
    "from Guwahati import Guwahati\n",
    "\n",
    "nwh = Guwahati.create_hierarchy()\n",
    "\n",
    "print(nwh.pprint() )"
   ]
  },
  {
   "cell_type": "code",
   "execution_count": 2,
   "id": "a8069cfb",
   "metadata": {},
   "outputs": [
    {
     "data": {
      "text/plain": [
       "int"
      ]
     },
     "execution_count": 2,
     "metadata": {},
     "output_type": "execute_result"
    }
   ],
   "source": [
    "type(-1)"
   ]
  },
  {
   "cell_type": "code",
   "execution_count": 2,
   "id": "9684cfb7",
   "metadata": {},
   "outputs": [
    {
     "data": {
      "text/plain": [
       "{'locations': 1,\n",
       " 'applications': 2,\n",
       " 'modules': 4,\n",
       " 'instrumentations': 14,\n",
       " 'assets': 14,\n",
       " 'total': 35}"
      ]
     },
     "execution_count": 2,
     "metadata": {},
     "output_type": "execute_result"
    }
   ],
   "source": [
    "nwh.get_node_counts()"
   ]
  },
  {
   "cell_type": "code",
   "execution_count": 3,
   "id": "ae1d9481",
   "metadata": {},
   "outputs": [
    {
     "data": {
      "text/plain": [
       "[{'name': 'Active', 'key': 'volumeflow', 'type': 'high', 'value': 72.0}]"
      ]
     },
     "execution_count": 3,
     "metadata": {},
     "output_type": "execute_result"
    }
   ],
   "source": [
    "nwh.nodes[82].thresholds"
   ]
  },
  {
   "cell_type": "code",
   "execution_count": null,
   "id": "b6ebd839",
   "metadata": {},
   "outputs": [],
   "source": []
  }
 ],
 "metadata": {
  "kernelspec": {
   "display_name": "Python 3",
   "language": "python",
   "name": "python3"
  },
  "language_info": {
   "codemirror_mode": {
    "name": "ipython",
    "version": 3
   },
   "file_extension": ".py",
   "mimetype": "text/x-python",
   "name": "python",
   "nbconvert_exporter": "python",
   "pygments_lexer": "ipython3",
   "version": "3.10.2"
  }
 },
 "nbformat": 4,
 "nbformat_minor": 5
}
